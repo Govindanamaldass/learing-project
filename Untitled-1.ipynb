{
 "cells": [
  {
   "cell_type": "code",
   "execution_count": null,
   "metadata": {},
   "outputs": [
    {
     "ename": "",
     "evalue": "",
     "output_type": "error",
     "traceback": [
      "\u001b[1;31mRunning cells with 'Python 3.12.4' requires the ipykernel package.\n",
      "\u001b[1;31mRun the following command to install 'ipykernel' into the Python environment. \n",
      "\u001b[1;31mCommand: '\"c:/Program Files/Python312/python.exe\" -m pip install ipykernel -U --user --force-reinstall'"
     ]
    }
   ],
   "source": [
    "card = input(\"Enter card: \")\n",
    "balance = 1000\n",
    "\n",
    "if card == \"card\":\n",
    "    print(\"Valid card\")\n",
    "    pin = input(\"Enter PIN: \")\n",
    "    \n",
    "    if pin == \"1111\":\n",
    "        print(\"Access granted\")\n",
    "        option = input(\"Enter 'w' for withdrawal or 'd' for deposit: \").lower()\n",
    "        \n",
    "        if option == 'd':\n",
    "            print(\"Deposit\")\n",
    "        elif option == 'w':\n",
    "            print(\"Withdrawal\")\n",
    "        else:\n",
    "            print(\"Invalid option\")\n",
    "    \n",
    "    else:\n",
    "        print(\"Wrong PIN\")\n",
    "        \n",
    "else:\n",
    "    print(\"Invalid card\")\n"
   ]
  }
 ],
 "metadata": {
  "kernelspec": {
   "display_name": "Python 3",
   "language": "python",
   "name": "python3"
  },
  "language_info": {
   "name": "python",
   "version": "3.12.4"
  }
 },
 "nbformat": 4,
 "nbformat_minor": 2
}
