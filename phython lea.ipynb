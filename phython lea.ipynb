{
 "cells": [
  {
   "cell_type": "code",
   "execution_count": 1,
   "metadata": {},
   "outputs": [
    {
     "name": "stdout",
     "output_type": "stream",
     "text": [
      "[99, 96, 93, 90, 87, 84, 81, 78, 75, 72, 69, 66, 63, 60, 57, 54, 51, 48, 45, 42, 39, 36, 33, 30, 27, 24, 21, 18, 15, 12, 9, 6, 3]\n"
     ]
    }
   ],
   "source": [
    "def generate_series():\n",
    "    # Start with the first number in the series\n",
    "    start = 99\n",
    "    # The step value for the series\n",
    "    step = 3\n",
    "    # The last number in the series\n",
    "    end = 3\n",
    "    # Initialize an empty list to store the series\n",
    "    series = []\n",
    "\n",
    "    # Generate the series by decrementing by 3 each step\n",
    "    for num in range(start, end - 1, -step):\n",
    "        series.append(num)\n",
    "\n",
    "    return series\n",
    "\n",
    "# Call the function and print the result\n",
    "print(generate_series())\n"
   ]
  }
 ],
 "metadata": {
  "kernelspec": {
   "display_name": "Python 3",
   "language": "python",
   "name": "python3"
  },
  "language_info": {
   "codemirror_mode": {
    "name": "ipython",
    "version": 3
   },
   "file_extension": ".py",
   "mimetype": "text/x-python",
   "name": "python",
   "nbconvert_exporter": "python",
   "pygments_lexer": "ipython3",
   "version": "3.12.2"
  }
 },
 "nbformat": 4,
 "nbformat_minor": 2
}
