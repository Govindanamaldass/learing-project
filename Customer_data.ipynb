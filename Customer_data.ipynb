{
 "cells": [
  {
   "cell_type": "code",
   "execution_count": 1,
   "metadata": {},
   "outputs": [],
   "source": [
    "import openpyxl"
   ]
  },
  {
   "cell_type": "code",
   "execution_count": 2,
   "metadata": {},
   "outputs": [],
   "source": [
    "sales_data = []"
   ]
  },
  {
   "cell_type": "code",
   "execution_count": 16,
   "metadata": {},
   "outputs": [],
   "source": [
    "# Prompt the user for sales data\n",
    "while True:\n",
    "    customer_name = input(\"Enter customer name (or 'q' to quit): \")\n",
    "    if customer_name.lower() == 'q':\n",
    "        break\n",
    "    Mobie_Number=int(input(\"Enter Your Mobile Number:\"))\n",
    "    Password=input(\"Create your password:\")\n",
    "    \n",
    "    sale = {\n",
    "        'customer_name': customer_name,\n",
    "        'mobile_number': Mobie_Number,\n",
    "        'password': Password\n",
    "    }\n",
    "    sales_data.append(sale)"
   ]
  },
  {
   "cell_type": "code",
   "execution_count": 17,
   "metadata": {},
   "outputs": [],
   "source": [
    "\n",
    "# Create a new Excel workbook and worksheet\n",
    "workbook = openpyxl.Workbook()\n",
    "worksheet = workbook.active"
   ]
  },
  {
   "cell_type": "code",
   "execution_count": 18,
   "metadata": {},
   "outputs": [],
   "source": [
    "# Write the column headers\n",
    "worksheet['A1'] = 'customer_name'\n",
    "worksheet['B1'] = 'mobile_number'\n",
    "worksheet['C1'] = 'password'"
   ]
  },
  {
   "cell_type": "code",
   "execution_count": 19,
   "metadata": {},
   "outputs": [],
   "source": [
    "row = 2\n",
    "for sale in sales_data:\n",
    " worksheet.cell(row=row, column=1, value=sale['customer_name'])\n",
    " worksheet.cell(row=row, column=2, value=sale['mobile_number'])\n",
    " worksheet.cell(row=row, column=3, value=sale['password'])\n",
    " row += 1"
   ]
  },
  {
   "cell_type": "code",
   "execution_count": 20,
   "metadata": {},
   "outputs": [
    {
     "name": "stdout",
     "output_type": "stream",
     "text": [
      "Data exported to customer_sales_data.xlsx\n"
     ]
    }
   ],
   "source": [
    "# Save the Excel file\n",
    "workbook.save('customer_sales_data.xlsx')\n",
    "print(\"Data exported to customer_sales_data.xlsx\")"
   ]
  }
 ],
 "metadata": {
  "kernelspec": {
   "display_name": "Python 3",
   "language": "python",
   "name": "python3"
  },
  "language_info": {
   "codemirror_mode": {
    "name": "ipython",
    "version": 3
   },
   "file_extension": ".py",
   "mimetype": "text/x-python",
   "name": "python",
   "nbconvert_exporter": "python",
   "pygments_lexer": "ipython3",
   "version": "3.12.4"
  }
 },
 "nbformat": 4,
 "nbformat_minor": 2
}
