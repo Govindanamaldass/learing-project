import streamlit as st
import pandas as pd
import numpy as np

# Set page title and configuration
st.set_page_config(page_title="My First Streamlit App", layout="wide")

# Add a title
st.title("Welcome to My First Streamlit App")

# Add some text
st.write("This is a simple example of what you can do with Streamlit!")

# Add a sidebar
st.sidebar.header("Dashboard Settings")

# Add some interactive elements
user_name = st.text_input("Enter your name:", "")
if user_name:
    st.write(f"Hello, {user_name}!")

# Create a sample dataframe
data = pd.DataFrame({
    'Date': pd.date_range('2024-01-01', periods=10),
    'Values': np.random.randn(10)
})

# Add a chart
st.subheader("Sample Chart")
st.line_chart(data.set_index('Date'))

# Add multiple columns
col1, col2 = st.columns(2)

with col1:
    st.subheader("Column 1")
    selected_number = st.slider("Select a number", 0, 100, 50)
    st.write(f"You selected: {selected_number}")

with col2:
    st.subheader("Column 2")
    if st.button("Click me!"):
        st.balloons()

# Add a data table
st.subheader("Sample Data")
st.dataframe(data)